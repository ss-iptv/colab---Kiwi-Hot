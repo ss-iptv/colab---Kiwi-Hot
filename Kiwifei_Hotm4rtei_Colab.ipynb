{
  "cells": [
    {
      "cell_type": "markdown",
      "metadata": {
        "id": "view-in-github",
        "colab_type": "text"
      },
      "source": [
        "<a href=\"https://colab.research.google.com/github/ss-iptv/colab---Kiwi-Hot/blob/main/Kiwifei_Hotm4rtei_Colab.ipynb\" target=\"_parent\"><img src=\"https://colab.research.google.com/assets/colab-badge.svg\" alt=\"Open In Colab\"/></a>"
      ]
    },
    {
      "cell_type": "markdown",
      "metadata": {
        "id": "zgC5OQjFbiGg"
      },
      "source": [
        "### **instalar dependencias**"
      ]
    },
    {
      "cell_type": "code",
      "execution_count": null,
      "metadata": {
        "collapsed": true,
        "id": "IUFBcU1qbiGi"
      },
      "outputs": [],
      "source": [
        "from google.colab import drive\n",
        "drive.mount('/content/drive')\n",
        "!pip install -q colab-xterm\n",
        "!pip install -q yt_dlp\n",
        "!pip install -q colorama\n",
        "!pip install -q beautifulsoup4\n",
        "!pip install -q Brotli\n",
        "!pip install -q bs4\n",
        "!pip install -q certifi\n",
        "!pip install -q charset-normalizer\n",
        "!pip install -q idna\n",
        "!pip install -q mutagen\n",
        "!pip install -q pycryptodomex\n",
        "!pip install -q requests\n",
        "!pip install -q websockets\n",
        "!pip install -q urllib\n",
        "!apt-get install -qq ffmpeg\n",
        "%load_ext colabxterm"
      ]
    },
    {
      "cell_type": "code",
      "execution_count": null,
      "metadata": {
        "collapsed": true,
        "id": "zH8wrAKnbiGi"
      },
      "outputs": [],
      "source": [
        "%load_ext colabxterm\n",
        "%xterm"
      ]
    },
    {
      "cell_type": "markdown",
      "metadata": {
        "id": "OF6iaoWHYCxg"
      },
      "source": [
        "###**Hotm4rtei** e **KIwifei**"
      ]
    },
    {
      "cell_type": "markdown",
      "source": [
        "###**Clonar e Executar Repositórios**"
      ],
      "metadata": {
        "id": "vL1F-EUHKyvN"
      }
    },
    {
      "cell_type": "code",
      "source": [
        "#CLONAR OS REPOSITÓRIOS DO GITHUB PARA A RAIZ DO DRIVE\n",
        "\n",
        "import os\n",
        "\n",
        "# Montar Google Drive\n",
        "from google.colab import drive\n",
        "!pip install -q yt_dlp\n",
        "\n",
        "# Navegar para o diretório desejado - HOTMA4RTEI\n",
        "%cd /content/drive/MyDrive\n",
        "\n",
        "# Clonar o repositório\n",
        "!git clone https://github.com/benedictus79/Hotm4rtei.git\n",
        "\n",
        "# Navegar para o repositório clonado\n",
        "%cd Hotm4rtei\n",
        "\n",
        "# Puxar as últimas mudanças (opcional, mas recomendado)\n",
        "!git pull\n",
        "\n",
        "\n",
        "# Navegar para o diretório desejado - KIWIFEI\n",
        "%cd /content/drive/MyDrive\n",
        "\n",
        "# Clonar o repositório\n",
        "!git clone https://github.com/benedictus79/Kiwifei.git\n",
        "\n",
        "# Navegar para o repositório clonado\n",
        "%cd Kiwifei\n",
        "\n",
        "# Puxar as últimas mudanças (opcional, mas recomendado)\n",
        "!git pull\n",
        "\n",
        "print(\"Repositórios clonados e atualizados com sucesso.\")\n",
        "\n"
      ],
      "metadata": {
        "id": "FT6SUR50FCey"
      },
      "execution_count": null,
      "outputs": []
    },
    {
      "cell_type": "markdown",
      "source": [
        "##### Execute o script **desejado** - **HOTMART OU KIWIFY**"
      ],
      "metadata": {
        "id": "jvOiaNN3KXrk"
      }
    },
    {
      "cell_type": "code",
      "execution_count": null,
      "metadata": {
        "id": "6QgajU5eVPF_"
      },
      "outputs": [],
      "source": [
        "# kIWIFY\n",
        "\n",
        "# Navegar até a pasta DO SCRIPT\n",
        "%cd /content/drive/MyDrive/Kiwifei\n",
        "\n",
        "# Loop para executar o script\n",
        "!python main.py\n"
      ]
    },
    {
      "cell_type": "code",
      "execution_count": null,
      "metadata": {
        "id": "zV6wja0NOE0I"
      },
      "outputs": [],
      "source": [
        "# HOTMA4RTEI\n",
        "# Navegar até a pasta DO sCRIPT\n",
        "%cd /content/drive/MyDrive/Hotm4rtei\n",
        "\n",
        "# Loop para executar o script\n",
        "!python main.py\n"
      ]
    }
  ],
  "metadata": {
    "accelerator": "TPU",
    "colab": {
      "gpuType": "V28",
      "provenance": [],
      "collapsed_sections": [
        "zgC5OQjFbiGg",
        "vL1F-EUHKyvN"
      ],
      "include_colab_link": true
    },
    "kernelspec": {
      "display_name": "Python 3",
      "name": "python3"
    },
    "language_info": {
      "name": "python"
    }
  },
  "nbformat": 4,
  "nbformat_minor": 0
}