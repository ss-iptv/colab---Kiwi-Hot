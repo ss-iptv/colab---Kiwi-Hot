{
  "cells": [
    {
      "cell_type": "markdown",
      "metadata": {
        "id": "view-in-github",
        "colab_type": "text"
      },
      "source": [
        "<a href=\"https://colab.research.google.com/github/ss-iptv/colab---Kiwi-Hot/blob/main/Kiwifei_Hotm4rtei_Colab.ipynb\" target=\"_parent\"><img src=\"https://colab.research.google.com/assets/colab-badge.svg\" alt=\"Open In Colab\"/></a>"
      ]
    },
    {
      "cell_type": "markdown",
      "metadata": {
        "id": "9sDhqtjsDJyn"
      },
      "source": [
        "Primeiro rode a celula abaixo, depois escolha a celula do script e bom scrapping"
      ]
    },
    {
      "cell_type": "code",
      "execution_count": null,
      "metadata": {
        "collapsed": true,
        "id": "qnz_zEcp5zAJ"
      },
      "outputs": [],
      "source": [
        "from google.colab import drive\n",
        "drive.mount('/content/drive')\n",
        "!pip install colab-xterm\n",
        "!pip install yt_dlp\n",
        "!pip install colorama\n",
        "!pip install beautifulsoup4==4.12.3 \\\n",
        "Brotli==1.1.0 \\\n",
        "bs4==0.0.2 \\\n",
        "certifi==2024.6.2 \\\n",
        "charset-normalizer==3.3.2 \\\n",
        "colorama==0.4.6 \\\n",
        "idna==3.7 \\\n",
        "lxml==5.2.2 \\\n",
        "mutagen==1.47.0 \\\n",
        "pycryptodomex==3.20.0 \\\n",
        "requests==2.32.3 \\\n",
        "soupsieve==2.5 \\\n",
        "tqdm==4.66.4 \\\n",
        "urllib3==2.2.2 \\\n",
        "websockets==12.0 \\\n"
      ]
    },
    {
      "cell_type": "markdown",
      "source": [
        "### RODE ABAIXO O SCRAPPER DESEJADO - ALTERE A PASTA ONDE VOCÊ IRÁ DEIXAR O SCRIPT\n",
        "\n",
        "\n",
        "\n",
        "\n",
        "\n"
      ],
      "metadata": {
        "id": "eav0R2afih9D"
      }
    },
    {
      "cell_type": "code",
      "execution_count": null,
      "metadata": {
        "id": "rKgvah3ij4aV"
      },
      "outputs": [],
      "source": [
        "# kIWIFY\n",
        "from google.colab import drive\n",
        "from IPython.display import clear_output\n",
        "drive.mount('/content/drive')\n",
        "\n",
        "# Navegar até a pasta desejada\n",
        "%cd /content/drive/MyDrive/Kiwifei\n",
        "\n",
        "# Definir o número de páginas\n",
        "num_paginas = 1  # Substitua 10 pelo número de páginas que você deseja processar\n",
        "\n",
        "# Loop para executar o script e limpar a saída a cada página\n",
        "for i in range(1, num_paginas + 1):\n",
        "    !python main.py --page $i\n",
        "    clear_output(wait=True)\n"
      ]
    },
    {
      "cell_type": "code",
      "source": [],
      "metadata": {
        "id": "Lkrd42PTi65J"
      },
      "execution_count": null,
      "outputs": []
    },
    {
      "cell_type": "code",
      "source": [
        "# HOTMA4RTEI\n",
        "from google.colab import drive\n",
        "from IPython.display import clear_output\n",
        "drive.mount('/content/drive')\n",
        "\n",
        "# Navegar até a pasta desejada\n",
        "%cd /content/drive/MyDrive/HOTMART\n",
        "\n",
        "# Definir o número de páginas\n",
        "num_paginas = 1  # Substitua 10 pelo número de páginas que você deseja processar\n",
        "\n",
        "# Loop para executar o script e limpar a saída a cada página\n",
        "for i in range(1, num_paginas + 1):\n",
        "    !python main.py --page $i\n",
        "    clear_output(wait=True)"
      ],
      "metadata": {
        "id": "zV6wja0NOE0I"
      },
      "execution_count": null,
      "outputs": []
    },
    {
      "cell_type": "code",
      "source": [],
      "metadata": {
        "id": "kUG-kmHVi8YH"
      },
      "execution_count": null,
      "outputs": []
    }
  ],
  "metadata": {
    "accelerator": "TPU",
    "colab": {
      "gpuType": "V28",
      "provenance": [],
      "include_colab_link": true
    },
    "kernelspec": {
      "display_name": "Python 3",
      "name": "python3"
    },
    "language_info": {
      "name": "python"
    }
  },
  "nbformat": 4,
  "nbformat_minor": 0
}